{
 "cells": [
  {
   "cell_type": "code",
   "execution_count": 9,
   "id": "a6516115",
   "metadata": {
    "scrolled": true
   },
   "outputs": [
    {
     "name": "stdout",
     "output_type": "stream",
     "text": [
      "Collecting mysql-connector-python\n",
      "  Downloading mysql_connector_python-8.1.0-cp310-cp310-win_amd64.whl (10.9 MB)\n",
      "     ---------------------------------------- 10.9/10.9 MB 6.1 MB/s eta 0:00:00\n",
      "Collecting protobuf<=4.21.12,>=4.21.1\n",
      "  Downloading protobuf-4.21.12-cp310-abi3-win_amd64.whl (527 kB)\n",
      "     ---------------------------------------- 527.0/527.0 kB ? eta 0:00:00\n",
      "Installing collected packages: protobuf, mysql-connector-python\n",
      "Successfully installed mysql-connector-python-8.1.0 protobuf-4.21.12\n",
      "Note: you may need to restart the kernel to use updated packages.\n"
     ]
    }
   ],
   "source": [
    "pip install mysql-connector-python"
   ]
  },
  {
   "cell_type": "code",
   "execution_count": 1,
   "id": "991d21be",
   "metadata": {
    "scrolled": true
   },
   "outputs": [
    {
     "data": {
      "text/plain": [
       "<__main__.CRUD at 0x1f5a3bf7ee0>"
      ]
     },
     "execution_count": 1,
     "metadata": {},
     "output_type": "execute_result"
    }
   ],
   "source": [
    "import mysql.connector\n",
    "\n",
    "\n",
    "class CRUD:\n",
    "    def __init__(self):\n",
    "        self.conexao = mysql.connector.connect(\n",
    "            host='127.0.0.1',\n",
    "            user='root',\n",
    "            password='homenverde1',\n",
    "            database='empresa_queijos',\n",
    "        )\n",
    "        self.cursor = self.conexao.cursor()\n",
    "        \n",
    "    def inserir(self,comando):\n",
    "        self.cursor.execute(comando)\n",
    "        self.conexao.commit()\n",
    "        \n",
    "    def alterar(self,comando):\n",
    "        self.cursor.execute(comando)\n",
    "        self.conexao.commit()\n",
    "        \n",
    "    def buscar_nome(self,comando):\n",
    "        self.cursor.execute(comando)\n",
    "        \n",
    "    def listar_tudo(self,comando):\n",
    "        self.cursor.execute(comando)\n",
    "        result = self.cursor.fetchall()\n",
    "        return result\n",
    "    \n",
    "    def exibir_um(self,comando):\n",
    "        self.cursor.execute(comando)\n",
    "        \n",
    "    def deletar(self,comando):\n",
    "        self.cursor.execute(comando)\n",
    "        self.conexao.commit()\n",
    "        \n",
    "    def fechar(self):\n",
    "        self.cursor.close()\n",
    "        self.conexao.close()\n",
    "        \n",
    "CRUD()"
   ]
  },
  {
   "cell_type": "code",
   "execution_count": 15,
   "id": "57141efc",
   "metadata": {},
   "outputs": [
    {
     "name": "stdout",
     "output_type": "stream",
     "text": [
      "Terminal Banco de Dados Queijos\n"
     ]
    }
   ],
   "source": [
    "print(\"Terminal Banco de Dados Queijos\")"
   ]
  },
  {
   "cell_type": "code",
   "execution_count": 10,
   "id": "2a769650",
   "metadata": {
    "scrolled": true
   },
   "outputs": [],
   "source": [
    "crud = CRUD()\n",
    "comando_sql = 'insert into estoque values (006,\"Meia Cura\",\"Queijo\",\"Vereda\",0.452,58.20 * Peso);'\n",
    "crud.inserir(comando_sql)\n",
    "crud.fechar()"
   ]
  },
  {
   "cell_type": "code",
   "execution_count": 14,
   "id": "3ae2def4",
   "metadata": {
    "scrolled": false
   },
   "outputs": [
    {
     "name": "stdout",
     "output_type": "stream",
     "text": [
      "(1, 'Napolitano', 'Queijo', 'Vereda', 0.5, 29.1)\n",
      "(2, 'Salame', 'Queijo', 'Vereda', 0.5, 29.1)\n",
      "(3, 'Napolitano sem Capa', 'Queijo', 'Vereda', 0.5, 29.1)\n",
      "(4, 'Gouda', 'Queijo', 'Vereda', 0.5, 29.1)\n",
      "(5, 'Ricota', 'Queijo', 'Vereda', 0.5, 29.1)\n",
      "(6, 'Meia Cura', 'Queijo', 'Vereda', 0.452, 26.306399542093278)\n"
     ]
    }
   ],
   "source": [
    "crud = CRUD()\n",
    "comando_ver = \"select * from estoque;\"\n",
    "\n",
    "resultado = crud.listar_tudo(comando_ver)\n",
    "\n",
    "for row in resultado:\n",
    "    print(row)"
   ]
  },
  {
   "cell_type": "code",
   "execution_count": 4,
   "id": "16aaaca4",
   "metadata": {
    "scrolled": false
   },
   "outputs": [
    {
     "name": "stdout",
     "output_type": "stream",
     "text": [
      "(2, 'Napolitano', 'Queijo', 'Vereda', 0.5, 29.1)\n"
     ]
    }
   ],
   "source": [
    "crud = CRUD()\n",
    "comando_deletar = \"DELETE FROM estoque WHERE ID_Produto=001;\"\n",
    "\n",
    "crud.deletar(comando_deletar)\n",
    "resultado = crud.listar_tudo(comando_ver)\n",
    "\n",
    "for row in resultado:\n",
    "    print(row)"
   ]
  },
  {
   "cell_type": "code",
   "execution_count": 13,
   "id": "45e1506d",
   "metadata": {
    "scrolled": false
   },
   "outputs": [
    {
     "name": "stdout",
     "output_type": "stream",
     "text": [
      "(1, 'Napolitano', 'Queijo', 'Vereda', 0.5, 29.1)\n",
      "(2, 'Napolitano', 'Queijo', 'Vereda', 0.5, 29.1)\n",
      "(3, 'Napolitano sem Capa', 'Queijo', 'Vereda', 0.5, 29.1)\n",
      "(4, 'Gouda', 'Queijo', 'Vereda', 0.5, 29.1)\n",
      "(5, 'Ricota', 'Queijo', 'Vereda', 0.5, 29.1)\n",
      "(6, 'Meia Cura', 'Queijo', 'Vereda', 0.452, 26.306399542093278)\n"
     ]
    }
   ],
   "source": [
    "crud = CRUD()\n",
    "comando_alterar = 'UPDATE estoque set Nome = \"Salame\" WHERE ID_Produto = 2'\n",
    "crud.alterar(comando_alterar)"
   ]
  },
  {
   "cell_type": "code",
   "execution_count": null,
   "id": "4d453618",
   "metadata": {},
   "outputs": [],
   "source": []
  }
 ],
 "metadata": {
  "kernelspec": {
   "display_name": "Python 3 (ipykernel)",
   "language": "python",
   "name": "python3"
  },
  "language_info": {
   "codemirror_mode": {
    "name": "ipython",
    "version": 3
   },
   "file_extension": ".py",
   "mimetype": "text/x-python",
   "name": "python",
   "nbconvert_exporter": "python",
   "pygments_lexer": "ipython3",
   "version": "3.10.9"
  }
 },
 "nbformat": 4,
 "nbformat_minor": 5
}
